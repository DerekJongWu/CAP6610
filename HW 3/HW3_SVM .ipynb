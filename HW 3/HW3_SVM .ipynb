{
 "cells": [
  {
   "cell_type": "code",
   "execution_count": 38,
   "metadata": {},
   "outputs": [
    {
     "name": "stdout",
     "output_type": "stream",
     "text": [
      "[[ 2.74176642  2.65899951 -4.8650653  -6.14936781]]\n",
      "[9.2680948]\n",
      "[ 2.74176642  2.65899951 -4.8650653  -6.14936781]\n",
      "[5.32537636]\n"
     ]
    },
    {
     "name": "stderr",
     "output_type": "stream",
     "text": [
      "/anaconda3/lib/python3.6/site-packages/sklearn/svm/base.py:931: ConvergenceWarning: Liblinear failed to converge, increase the number of iterations.\n",
      "  \"the number of iterations.\", ConvergenceWarning)\n"
     ]
    }
   ],
   "source": [
    "from sklearn.svm import LinearSVC\n",
    "from sklearn import datasets\n",
    "import numpy as np\n",
    "\n",
    "iris = datasets.load_iris()\n",
    "\n",
    "seto = iris.data[0:50] \n",
    "vers = iris.data[50:100]\n",
    "virg = iris.data[100:150]\n",
    "\n",
    "class_seto = iris.target[0:50]\n",
    "class_vers = iris.target[50:100]\n",
    "class_virg = iris.target[100:150]\n",
    "\n",
    "x = np.concatenate((vers,virg)) \n",
    "target = 1*np.ones(50)\n",
    "target_1 = -1*np.ones(50)\n",
    "y = np.concatenate((target,target_1))\n",
    "\n",
    "model = LinearSVC(C=50, max_iter = 10000, loss = 'hinge')\n",
    "resul =  model.fit(x,y)\n",
    "coeff = model.coef_\n",
    "coeff_2 = model.intercept_\n",
    "print(coeff)\n",
    "print(coeff_2)\n",
    "\n",
    "\n",
    "w = coeff[0]\n",
    "print(w)\n",
    "\n",
    "\n",
    "sum = 0\n",
    "for i in range(0,100): \n",
    "    comp = y[i]*np.matmul(w.T,x[i]) + coeff_2\n",
    "    if comp >= 1: \n",
    "        sum = sum + 0\n",
    "    else: \n",
    "        sum = sum + (1- comp)\n",
    "print(sum)"
   ]
  },
  {
   "cell_type": "code",
   "execution_count": null,
   "metadata": {},
   "outputs": [],
   "source": []
  },
  {
   "cell_type": "code",
   "execution_count": null,
   "metadata": {},
   "outputs": [],
   "source": []
  }
 ],
 "metadata": {
  "kernelspec": {
   "display_name": "Python 3",
   "language": "python",
   "name": "python3"
  },
  "language_info": {
   "codemirror_mode": {
    "name": "ipython",
    "version": 3
   },
   "file_extension": ".py",
   "mimetype": "text/x-python",
   "name": "python",
   "nbconvert_exporter": "python",
   "pygments_lexer": "ipython3",
   "version": "3.6.8"
  }
 },
 "nbformat": 4,
 "nbformat_minor": 2
}
