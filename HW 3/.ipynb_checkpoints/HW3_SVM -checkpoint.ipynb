{
 "cells": [
  {
   "cell_type": "code",
   "execution_count": 21,
   "metadata": {},
   "outputs": [
    {
     "name": "stdout",
     "output_type": "stream",
     "text": [
      "[[-0.85059368 -0.98655826  1.38103794  1.86512311]]\n",
      "[-1.71077428]\n"
     ]
    }
   ],
   "source": [
    "from sklearn.svm import LinearSVC\n",
    "from sklearn import datasets\n",
    "import numpy as np\n",
    "\n",
    "iris = datasets.load_iris()\n",
    "\n",
    "seto = iris.data[0:50] \n",
    "vers = iris.data[50:100]\n",
    "virg = iris.data[100:150]\n",
    "\n",
    "class_seto = iris.target[0:50]\n",
    "class_vers = iris.target[50:100]\n",
    "class_virg = iris.target[100:150]\n",
    "\n",
    "x = np.concatenate((vers,virg)) \n",
    "y = np.concatenate((class_vers, class_virg))\n",
    "\n",
    "model = LinearSVC(C=1.0, max_iter = 10000)\n",
    "resul =  model.fit(x,y)\n",
    "coeff = model.coef_\n",
    "coeff_2 = model.intercept_\n",
    "print(coeff)\n",
    "print(coeff_2)"
   ]
  },
  {
   "cell_type": "code",
   "execution_count": null,
   "metadata": {},
   "outputs": [],
   "source": []
  }
 ],
 "metadata": {
  "kernelspec": {
   "display_name": "Python 3",
   "language": "python",
   "name": "python3"
  },
  "language_info": {
   "codemirror_mode": {
    "name": "ipython",
    "version": 3
   },
   "file_extension": ".py",
   "mimetype": "text/x-python",
   "name": "python",
   "nbconvert_exporter": "python",
   "pygments_lexer": "ipython3",
   "version": "3.6.8"
  }
 },
 "nbformat": 4,
 "nbformat_minor": 2
}
