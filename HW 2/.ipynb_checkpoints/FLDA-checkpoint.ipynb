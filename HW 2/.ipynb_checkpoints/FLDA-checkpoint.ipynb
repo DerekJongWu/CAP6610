{
 "cells": [
  {
   "cell_type": "code",
   "execution_count": null,
   "metadata": {},
   "outputs": [],
   "source": [
    "import matplotlib.pyplot as plt \n",
    "import numpy as np\n",
    "from sklearn.preprocessing import LabelEncoder\n",
    "from sklearn import datasets \n",
    "from sklearn.discriminant_analysis import LinearDiscriminantAnalysis\n",
    "\n",
    "iris = datasets.load_iris()\n",
    "\n",
    "seto = iris.data[0:50] \n",
    "vers = iris.data[50:100]\n",
    "virg = iris.data[100:150]\n",
    "\n",
    "target_names1 = iris.target_names[0:1]\n",
    "\n",
    "target_names = iris.target_names \n",
    "\n",
    "class_seto = iris.target[0:50]\n",
    "class_vers = iris.target[50:100]\n",
    "class_virg = iris.target[100:150]\n",
    "\n",
    "x = np.concatenate((seto,vers)) \n",
    "y = np.concatenate((class_seto, class_vers))\n",
    "lda = LinearDiscriminantAnalysis(n_components = 2)\n",
    "x_r2 = lda.fit_transform(x,y)\n",
    "score_val = lda.score(x,y)\n",
    "print(score_val)\n",
    "plt.figure()\n",
    "\n",
    "\n",
    "misclassified = 0\n",
    "for i in range(50):\n",
    "    if x_r2[i] < 0:\n",
    "        misclassified = misclassified + 1\n",
    "    if i == 49: \n",
    "        plt.scatter(x_r2[i],0, color = 'red', label = 'Versicolor')\n",
    "    plt.scatter(x_r2[i],0, color = 'red')\n",
    "\n",
    "    \n",
    "for i in range(50,100): \n",
    "    if x_r2[i] > 0:\n",
    "        misclassified = misclassified + 1\n",
    "    if i == 99: \n",
    "        plt.scatter(x_r2[i],0, color = 'blue', label = 'Virginica')\n",
    "    plt.scatter(x_r2[i],0, color = 'blue')\n",
    "\n",
    "plt.legend()\n",
    "print(misclassified)\n",
    "plt.figure() \n",
    "plt.show()"
   ]
  },
  {
   "cell_type": "code",
   "execution_count": null,
   "metadata": {},
   "outputs": [],
   "source": []
  }
 ],
 "metadata": {
  "kernelspec": {
   "display_name": "Python 3",
   "language": "python",
   "name": "python3"
  },
  "language_info": {
   "codemirror_mode": {
    "name": "ipython",
    "version": 3
   },
   "file_extension": ".py",
   "mimetype": "text/x-python",
   "name": "python",
   "nbconvert_exporter": "python",
   "pygments_lexer": "ipython3",
   "version": "3.6.8"
  }
 },
 "nbformat": 4,
 "nbformat_minor": 2
}
