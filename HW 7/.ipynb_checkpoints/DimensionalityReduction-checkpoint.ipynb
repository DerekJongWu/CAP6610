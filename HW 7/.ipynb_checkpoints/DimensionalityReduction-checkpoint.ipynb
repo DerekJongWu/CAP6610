{
 "cells": [
  {
   "cell_type": "code",
   "execution_count": 1,
   "metadata": {},
   "outputs": [
    {
     "name": "stdout",
     "output_type": "stream",
     "text": [
      "Done. Reconstruction error: 1.47144e-07\n"
     ]
    },
    {
     "data": {
      "text/plain": [
       "<Figure size 640x480 with 2 Axes>"
      ]
     },
     "metadata": {},
     "output_type": "display_data"
    },
    {
     "data": {
      "text/plain": [
       "<Figure size 640x480 with 1 Axes>"
      ]
     },
     "metadata": {},
     "output_type": "display_data"
    }
   ],
   "source": [
    "import matplotlib.pyplot as plt\n",
    "import numpy as np\n",
    "import math\n",
    "\n",
    "from sklearn import manifold, datasets\n",
    "\n",
    "# This import is needed to modify the way figure behaves\n",
    "from mpl_toolkits.mplot3d import Axes3D\n",
    "Axes3D\n",
    "\n",
    "X, color = datasets.samples_generator.make_swiss_roll(n_samples=1500)\n",
    "\n",
    "X_r, err = manifold.locally_linear_embedding(X, n_neighbors=12,\n",
    "                                             n_components=2)\n",
    "embedding = manifold.SpectralEmbedding(n_components = 2,affinity = 'rbf', n_neighbors = 12, gamma = 0.01)\n",
    "X_l = embedding.fit_transform(X)\n",
    "print(\"Done. Reconstruction error: %g\" % err)\n",
    "\n",
    "\n",
    "fig = plt.figure()\n",
    "\n",
    "ax = fig.add_subplot(211, projection='3d')\n",
    "ax.scatter(X[:, 0], X[:, 1], X[:, 2], c=color, cmap=plt.cm.Spectral)\n",
    "plt.title(\"Original data\")\n",
    "\n",
    "ax = fig.add_subplot(212)\n",
    "plt.scatter(X_r[:, 0], X_r[:, 1], c=color, cmap=plt.cm.Spectral)\n",
    "plt.autoscale(enable=True, axis='x', tight=True)\n",
    "plt.autoscale(enable=True, axis='y', tight=True)\n",
    "plt.xticks([]), plt.yticks([])\n",
    "plt.title('Projected data')\n",
    "plt.show()\n",
    "\n",
    "plt.scatter(X_l[:,0], X_l[:,1], c = color, cmap=plt.cm.Spectral)\n",
    "plt.autoscale(enable=True, axis='x', tight=True)\n",
    "plt.autoscale(enable=True, axis='y', tight=True)\n",
    "plt.xticks([]), plt.yticks([])\n",
    "plt.title('Eigenmap data')\n",
    "plt.show()\n",
    "\n",
    "\n",
    "\n"
   ]
  },
  {
   "cell_type": "code",
   "execution_count": null,
   "metadata": {},
   "outputs": [],
   "source": []
  }
 ],
 "metadata": {
  "kernelspec": {
   "display_name": "Python 3",
   "language": "python",
   "name": "python3"
  },
  "language_info": {
   "codemirror_mode": {
    "name": "ipython",
    "version": 3
   },
   "file_extension": ".py",
   "mimetype": "text/x-python",
   "name": "python",
   "nbconvert_exporter": "python",
   "pygments_lexer": "ipython3",
   "version": "3.6.8"
  }
 },
 "nbformat": 4,
 "nbformat_minor": 2
}
