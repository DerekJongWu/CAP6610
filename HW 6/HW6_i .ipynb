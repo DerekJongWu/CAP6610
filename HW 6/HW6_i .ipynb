{
 "cells": [
  {
   "cell_type": "code",
   "execution_count": 3,
   "metadata": {},
   "outputs": [
    {
     "name": "stdout",
     "output_type": "stream",
     "text": [
      "(1000, 256)\n",
      "1\n",
      "(1000, 256)\n",
      "()\n"
     ]
    },
    {
     "data": {
      "image/png": "[encoded data removed]",
      "text/plain": [
       "<Figure size 432x288 with 1 Axes>"
      ]
     },
     "metadata": {
      "needs_background": "light"
     },
     "output_type": "display_data"
    },
    {
     "name": "stdout",
     "output_type": "stream",
     "text": [
      "3705.860477089313\n",
      "92636.4328497367\n"
     ]
    },
    {
     "data": {
      "text/plain": [
       "'\\nfor i in range(1000):\\n    sub = Z[:,i] - comp[i,:].T\\n    norm = np.linalg.norm(sub)\\n    diff.append(norm)\\nprint(diff)\\n'"
      ]
     },
     "execution_count": 3,
     "metadata": {},
     "output_type": "execute_result"
    }
   ],
   "source": [
    "import numpy as np \n",
    "import sklearn \n",
    "import matplotlib.image as img\n",
    "import matplotlib.pyplot as plt\n",
    "import random\n",
    "from sklearn.feature_extraction import image\n",
    "from sklearn.decomposition import PCA\n",
    "from sklearn.decomposition import MiniBatchDictionaryLearning\n",
    "from sklearn.decomposition import SparseCoder\n",
    "import spams\n",
    "\n",
    "#A method to calculate U\n",
    "def calculateU(Z, epsilon): \n",
    "    U = np.empty((np.shape(Z)[0], np.shape(Z)[1]))\n",
    "    for i in range(np.shape(Z)[0]): \n",
    "        for k in range(np.shape(Z)[1]):\n",
    "            if abs(Z[i,k]) > epsilon:\n",
    "                U[i,k] = abs(Z[i,k])\n",
    "                continue\n",
    "            else: \n",
    "                U[i,k] = epsilon \n",
    "                continue\n",
    "    return U\n",
    "\n",
    "#A method to calculate Z\n",
    "def calculateZ(V,W,lamb,x):\n",
    "    Z = np.empty((350,1000))\n",
    "    for i in range(1000): \n",
    "        U = np.diag(V[:,i])\n",
    "        A = np.linalg.inv((np.matmul(W,W.T))+lamb*U)\n",
    "        B = np.matmul(W,x[i,:].T)\n",
    "        Z[:,i] = np.matmul(A,B)\n",
    "    return Z\n",
    "\n",
    "#A method to calculate the energy function for the majorization algorithm\n",
    "def energy(x,W,z,lam): \n",
    "    result = 0 \n",
    "    first = 0\n",
    "    second = 0 \n",
    "    for i in range(1000):\n",
    "        first = first + np.linalg.norm(x[i,:] - np.matmul(W.T,z[:,i]))**2\n",
    "        second = second + np.linalg.norm(z[:,i],1)\n",
    "    result = first + lam*second \n",
    "    return result\n",
    "\n",
    "#Read in the image \n",
    "imag = img.imread('clockwork-angels.jpg')\n",
    "\n",
    "#Extract the R-Channel\n",
    "R = imag[:,:,0]\n",
    "R.astype(float)\n",
    "\n",
    "#Create 16x16 patches\n",
    "patches = image.extract_patches_2d(R, (16,16))\n",
    "index = random.sample(range(1, 5000), 1000)\n",
    "matrix = np.empty((1000,256))\n",
    "i = 0;\n",
    "for number in index: \n",
    "    vec = patches[number].reshape(256)\n",
    "    matrix[i,:] = vec\n",
    "    i = i + 1\n",
    "\n",
    "pca = PCA()\n",
    "p = pca.fit_transform(matrix)\n",
    "print(np.shape(p))\n",
    "print(1)\n",
    "pca2 = PCA(n_components = 64) \n",
    "p2 = pca.fit_transform(matrix)\n",
    "print(np.shape(p2))\n",
    "#Compute the dictionary W for the 1000 patches\n",
    "dictionary = MiniBatchDictionaryLearning(n_components = 350)\n",
    "comp_dict = dictionary.fit(matrix)\n",
    "W = dictionary.components_ \n",
    "print(np.shape(comp_dict))\n",
    "#Majorization algorithm \n",
    "U = np.ones((350,1000))\n",
    "Z_old = np.zeros((350,1000))\n",
    "Z = np.zeros((350,1000))\n",
    "E = energy(matrix,W,Z,1)\n",
    "y = []\n",
    "\n",
    "for i in range(10):\n",
    "    y.append(E)\n",
    "    U = calculateU(Z_old, 0.001)\n",
    "    Z = calculateZ(U,W,0.01,matrix)\n",
    "    E_new = energy(matrix, W, Z,1)\n",
    "    if abs(E_new - E) < 0.01: \n",
    "        break\n",
    "    else: \n",
    "        Z_old = Z \n",
    "        E = E_new\n",
    "        continue\n",
    "\n",
    "plt.plot(y)\n",
    "plt.show()\n",
    "\n",
    "#Compare the SparseCoder and the Dictionary from majorization\n",
    "\n",
    "comp_dict = np.matmul(W.T,Z).T\n",
    "dict_learn = np.linalg.norm(abs(comp_dict - matrix))\n",
    "pca_learn = np.linalg.norm(abs(p-matrix))\n",
    "\n",
    "print(dict_learn)\n",
    "print(pca_learn)\n",
    "diff = []\n",
    "'''\n",
    "for i in range(1000):\n",
    "    sub = Z[:,i] - comp[i,:].T\n",
    "    norm = np.linalg.norm(sub)\n",
    "    diff.append(norm)\n",
    "print(diff)\n",
    "'''"
   ]
  },
  {
   "cell_type": "code",
   "execution_count": null,
   "metadata": {},
   "outputs": [],
   "source": []
  },
  {
   "cell_type": "code",
   "execution_count": null,
   "metadata": {},
   "outputs": [],
   "source": []
  }
 ],
 "metadata": {
  "kernelspec": {
   "display_name": "Python 3",
   "language": "python",
   "name": "python3"
  },
  "language_info": {
   "codemirror_mode": {
    "name": "ipython",
    "version": 3
   },
   "file_extension": ".py",
   "mimetype": "text/x-python",
   "name": "python",
   "nbconvert_exporter": "python",
   "pygments_lexer": "ipython3",
   "version": "3.6.8"
  }
 },
 "nbformat": 4,
 "nbformat_minor": 2
}
