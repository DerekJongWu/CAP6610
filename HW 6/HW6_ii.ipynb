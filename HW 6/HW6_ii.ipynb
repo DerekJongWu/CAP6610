{
 "cells": [
  {
   "cell_type": "code",
   "execution_count": 2,
   "metadata": {},
   "outputs": [
    {
     "name": "stdout",
     "output_type": "stream",
     "text": [
      "(350,)\n",
      "(350,)\n",
      "(350,)\n",
      "[[0.00285711 0.00285711 0.00285711 ... 1.         1.         1.        ]\n",
      " [0.00285711 0.00285711 0.00285711 ... 1.         1.         1.        ]\n",
      " [0.00285711 0.00285711 0.00285711 ... 1.         1.         1.        ]\n",
      " ...\n",
      " [0.00285711 0.00285711 0.00285711 ... 1.         1.         1.        ]\n",
      " [0.00285711 0.00285711 0.00285711 ... 1.         1.         1.        ]\n",
      " [0.00285711 0.00285711 0.00285711 ... 1.         1.         1.        ]]\n",
      "(350, 1000)\n",
      "[0. 0. 0. 0. 0. 0. 0. 0. 0. 0.]\n"
     ]
    }
   ],
   "source": [
    "import numpy as np\n",
    "\n",
    "def calculateU(Z, epsilon): \n",
    "    U = np.empty((np.shape(Z)[0], np.shape(Z)[1]))\n",
    "    for i in range(np.shape(Z)[0]): \n",
    "        for k in range(np.shape(Z)[1]):\n",
    "            if abs(Z[i,k]) > epsilon:\n",
    "                U[i,k] = abs(Z[i,k])\n",
    "                continue\n",
    "            else: \n",
    "                U[i,k] = epsilon \n",
    "                continue\n",
    "    return U\n",
    "\n",
    "def calculateZ(V,W,lamb,x):\n",
    "    Z = np.ones((350,1000))\n",
    "    for i in range(3): \n",
    "        U = np.diag(V[:,i])\n",
    "        A = np.linalg.inv((np.matmul(W,W.T))+lamb*U)\n",
    "        B = np.matmul(W,x[i,:].T)\n",
    "        C = np.matmul(A,B)\n",
    "        print(np.shape(C))\n",
    "        Z[:,i] = np.array(np.matmul(A,B))\n",
    "    return Z\n",
    "        \n",
    "\n",
    "W = np.ones((350,256))\n",
    "U = np.ones((350,1000))\n",
    "x = np.ones((1000,256))\n",
    "\n",
    "Z = calculateZ(U,W,1,x)\n",
    "print(Z)\n",
    "print(np.shape(Z))\n",
    "\n",
    "A = np.ones((10,10))\n",
    "B = np.ones((10,10))\n",
    "\n",
    "diff = A[:,1] - B[:,1]\n",
    "print(diff)\n"
   ]
  },
  {
   "cell_type": "code",
   "execution_count": null,
   "metadata": {},
   "outputs": [],
   "source": []
  },
  {
   "cell_type": "code",
   "execution_count": null,
   "metadata": {},
   "outputs": [],
   "source": []
  },
  {
   "cell_type": "code",
   "execution_count": null,
   "metadata": {},
   "outputs": [],
   "source": []
  }
 ],
 "metadata": {
  "kernelspec": {
   "display_name": "Python 3",
   "language": "python",
   "name": "python3"
  },
  "language_info": {
   "codemirror_mode": {
    "name": "ipython",
    "version": 3
   },
   "file_extension": ".py",
   "mimetype": "text/x-python",
   "name": "python",
   "nbconvert_exporter": "python",
   "pygments_lexer": "ipython3",
   "version": "3.6.8"
  }
 },
 "nbformat": 4,
 "nbformat_minor": 2
}
