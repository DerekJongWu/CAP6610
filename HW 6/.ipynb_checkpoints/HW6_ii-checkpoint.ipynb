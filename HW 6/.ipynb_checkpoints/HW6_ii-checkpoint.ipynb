{
 "cells": [
  {
   "cell_type": "code",
   "execution_count": 13,
   "metadata": {},
   "outputs": [
    {
     "name": "stdout",
     "output_type": "stream",
     "text": [
      "[[1. 1. 1. 1. 1. 1. 1. 1. 1. 1.]\n",
      " [1. 1. 1. 1. 1. 1. 1. 1. 1. 1.]\n",
      " [1. 1. 1. 1. 1. 1. 1. 1. 1. 1.]\n",
      " [1. 1. 1. 1. 1. 1. 1. 1. 1. 1.]\n",
      " [1. 1. 1. 1. 1. 1. 1. 1. 1. 1.]\n",
      " [1. 1. 1. 1. 1. 1. 1. 1. 1. 1.]\n",
      " [1. 1. 1. 1. 1. 1. 1. 1. 1. 1.]\n",
      " [1. 1. 1. 1. 1. 1. 1. 1. 1. 1.]\n",
      " [1. 1. 1. 1. 1. 1. 1. 1. 1. 1.]\n",
      " [1. 1. 1. 1. 1. 1. 1. 1. 1. 1.]]\n"
     ]
    }
   ],
   "source": [
    "import numpy as np\n",
    "\n",
    "def calculateU(Z, epsilon): \n",
    "    U = np.empty((np.shape(Z)[0], np.shape(Z)[1]))\n",
    "    for i in range(np.shape(Z)[0]): \n",
    "        for k in range(np.shape(Z)[1]):\n",
    "            if abs(Z[i,k]) > epsilon:\n",
    "                U[i,k] = abs(Z[i,k])\n",
    "                continue\n",
    "            else: \n",
    "                U[i,k] = epsilon \n",
    "                continue\n",
    "    return U\n",
    "\n",
    "def calcualteZ(U,W,lamb):\n",
    "    #declare Z\n",
    "    for i in range(1713): \n",
    "        #declare U\n",
    "        for k in range(350):\n",
    "            np.append(U,diag(1/(2*U[i,k])))\n",
    "        Z[i] = np.inverse((np.matmul(W.T,W))+lamb*U)*np.matmul(W.T,x[:,i]) \n",
    "        \n",
    "Z = np.ones((10,10))\n",
    "U = calculateU(Z,0.5)\n",
    "print(U)"
   ]
  },
  {
   "cell_type": "code",
   "execution_count": null,
   "metadata": {},
   "outputs": [],
   "source": []
  }
 ],
 "metadata": {
  "kernelspec": {
   "display_name": "Python 3",
   "language": "python",
   "name": "python3"
  },
  "language_info": {
   "codemirror_mode": {
    "name": "ipython",
    "version": 3
   },
   "file_extension": ".py",
   "mimetype": "text/x-python",
   "name": "python",
   "nbconvert_exporter": "python",
   "pygments_lexer": "ipython3",
   "version": "3.6.8"
  }
 },
 "nbformat": 4,
 "nbformat_minor": 2
}
